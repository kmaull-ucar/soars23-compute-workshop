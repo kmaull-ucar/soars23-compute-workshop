{
 "cells": [
  {
   "cell_type": "markdown",
   "id": "8d62be9b-5958-4192-abb2-85a5434f64ad",
   "metadata": {},
   "source": [
    "# Key Python data structures"
   ]
  },
  {
   "cell_type": "markdown",
   "id": "313d8160-ae02-42a0-8bce-d9111204439d",
   "metadata": {
    "tags": []
   },
   "source": [
    "## Lists\n",
    "\n",
    "Python's core data type is the list.  With Python lists you can easily use them as:\n",
    "\n",
    "* arrays (1 or n-dimension)\n",
    "* stacks\n",
    "* queues\n",
    "\n",
    "You will also know that lists are supported in nearly every other library (like Pandas and Numpy), making them an idea pivot type from one form to another.\n",
    "\n",
    "Let's play ..."
   ]
  },
  {
   "cell_type": "code",
   "execution_count": 1,
   "id": "2df02fa2-ddde-4d16-a11a-58fcdcff76a0",
   "metadata": {},
   "outputs": [
    {
     "data": {
      "text/plain": [
       "[1, 2, 3]"
      ]
     },
     "execution_count": 1,
     "metadata": {},
     "output_type": "execute_result"
    }
   ],
   "source": [
    "[1,2,3] # a simple list"
   ]
  },
  {
   "cell_type": "code",
   "execution_count": 2,
   "id": "126c5ed9-40f4-470a-8829-7055abbaac9c",
   "metadata": {},
   "outputs": [
    {
     "data": {
      "text/plain": [
       "[1, 'a', <function max>]"
      ]
     },
     "execution_count": 2,
     "metadata": {},
     "output_type": "execute_result"
    }
   ],
   "source": [
    "[1, \"a\", max] # a complex list"
   ]
  },
  {
   "cell_type": "code",
   "execution_count": 3,
   "id": "b64a2409-8056-4630-ad7f-015750ab1028",
   "metadata": {},
   "outputs": [
    {
     "data": {
      "text/plain": [
       "[[<function max>, [1, 2, 3]], [<function min>, [-1, 0, 1]]]"
      ]
     },
     "execution_count": 3,
     "metadata": {},
     "output_type": "execute_result"
    }
   ],
   "source": [
    "[[max, [1,2,3]], [min, [-1, 0, 1]]]"
   ]
  },
  {
   "cell_type": "markdown",
   "id": "78413050-0e71-48e1-b4c6-2dec845793f6",
   "metadata": {},
   "source": [
    "### Challenge (Optional)\n",
    "\n",
    "Explain what this code does and **how** it does it:"
   ]
  },
  {
   "cell_type": "code",
   "execution_count": 4,
   "id": "f74e2bb0-8526-44f6-8973-7ca5e8ecc5d1",
   "metadata": {},
   "outputs": [
    {
     "name": "stdout",
     "output_type": "stream",
     "text": [
      "3\n",
      "-1\n"
     ]
    }
   ],
   "source": [
    "mystery_list = [[max, [1,2,3]], [min, [-1, 0, 1]]]\n",
    "\n",
    "for d in mystery_list:\n",
    "    print(d[0](d[1]))"
   ]
  },
  {
   "cell_type": "markdown",
   "id": "338dc561-dc91-4d9c-9f98-c53ae9f93eda",
   "metadata": {},
   "source": [
    "Whoa!"
   ]
  },
  {
   "cell_type": "markdown",
   "id": "161be70d-6c6b-4270-8a97-5cefa64aa907",
   "metadata": {},
   "source": [
    "Lists are everywhere, and we won't belabor the point.  You cannot really use Python without them and you won't find that you'll want to once you grasp their essence."
   ]
  },
  {
   "cell_type": "markdown",
   "id": "7afa8515-c29e-4aa6-9214-f60be8830478",
   "metadata": {
    "tags": []
   },
   "source": [
    "##  Dictionaries\n",
    "\n",
    "Dictionaries are another key data structure in Python -- they are essentially _key-value pairs_ and are also used nearly everywhere, in and out of Python.  The essence of a key-value pair is encoded in the data structures of all kinds -- and the term \"dictionary\" more or less tells us what we need to know, since the literal dictionary is just a bunch of keys (words) and their values (definitions of words).\n",
    "\n",
    "Dictionaries will provide you a more complex structuring of data that will become a little more structured over lists, but they are just as easy to manipulate, and are also easy to convert to other things like JSON files, CSV, etc.\n",
    "\n",
    "Let's play ..."
   ]
  },
  {
   "cell_type": "code",
   "execution_count": 5,
   "id": "f3423686-2f5a-409a-902b-b0ca55e7c783",
   "metadata": {},
   "outputs": [
    {
     "data": {
      "text/plain": [
       "{}"
      ]
     },
     "execution_count": 5,
     "metadata": {},
     "output_type": "execute_result"
    }
   ],
   "source": [
    "{}"
   ]
  },
  {
   "cell_type": "code",
   "execution_count": 6,
   "id": "13486191-c551-4f55-8ea3-5f9fdc5088d4",
   "metadata": {},
   "outputs": [
    {
     "data": {
      "text/plain": [
       "{1: 'hello', 2: 'goodbye'}"
      ]
     },
     "execution_count": 6,
     "metadata": {},
     "output_type": "execute_result"
    }
   ],
   "source": [
    "{1: \"hello\", 2: \"goodbye\"}"
   ]
  },
  {
   "cell_type": "code",
   "execution_count": 7,
   "id": "b9b5d2c6-d384-40b1-8218-ae7b7a3b5c14",
   "metadata": {},
   "outputs": [],
   "source": [
    "d = {1: \"hello\", 2: \"goodbye\"}"
   ]
  },
  {
   "cell_type": "code",
   "execution_count": 8,
   "id": "56234116-da7b-451b-ac9b-896b9d0efbff",
   "metadata": {},
   "outputs": [
    {
     "data": {
      "text/plain": [
       "'hello'"
      ]
     },
     "execution_count": 8,
     "metadata": {},
     "output_type": "execute_result"
    }
   ],
   "source": [
    "d[1]"
   ]
  },
  {
   "cell_type": "code",
   "execution_count": 9,
   "id": "5fc8c372-a909-462e-87a4-84a1eb836736",
   "metadata": {},
   "outputs": [
    {
     "data": {
      "text/plain": [
       "'goodbye'"
      ]
     },
     "execution_count": 9,
     "metadata": {},
     "output_type": "execute_result"
    }
   ],
   "source": [
    "d[2]"
   ]
  },
  {
   "cell_type": "code",
   "execution_count": 10,
   "id": "06df926f-00c1-4890-b900-14313945cb69",
   "metadata": {},
   "outputs": [
    {
     "data": {
      "text/plain": [
       "dict_keys([1, 2])"
      ]
     },
     "execution_count": 10,
     "metadata": {},
     "output_type": "execute_result"
    }
   ],
   "source": [
    "d.keys()"
   ]
  },
  {
   "cell_type": "code",
   "execution_count": 11,
   "id": "66fb04cb-7225-44e7-85f2-9a5336bf16b9",
   "metadata": {},
   "outputs": [
    {
     "data": {
      "text/plain": [
       "dict_values(['hello', 'goodbye'])"
      ]
     },
     "execution_count": 11,
     "metadata": {},
     "output_type": "execute_result"
    }
   ],
   "source": [
    "d.values()"
   ]
  },
  {
   "cell_type": "code",
   "execution_count": 12,
   "id": "56f36e55-7602-477b-ae6a-d228b7fcdff2",
   "metadata": {},
   "outputs": [
    {
     "name": "stdout",
     "output_type": "stream",
     "text": [
      "key: 1 ==> value: hello\n",
      "key: 2 ==> value: goodbye\n"
     ]
    }
   ],
   "source": [
    "for key, value in d.items():\n",
    "    print(f\"key: {key} ==> value: {value}\")"
   ]
  }
 ],
 "metadata": {
  "kernelspec": {
   "display_name": "Python 3 (ipykernel)",
   "language": "python",
   "name": "python3"
  },
  "language_info": {
   "codemirror_mode": {
    "name": "ipython",
    "version": 3
   },
   "file_extension": ".py",
   "mimetype": "text/x-python",
   "name": "python",
   "nbconvert_exporter": "python",
   "pygments_lexer": "ipython3",
   "version": "3.8.16"
  }
 },
 "nbformat": 4,
 "nbformat_minor": 5
}
