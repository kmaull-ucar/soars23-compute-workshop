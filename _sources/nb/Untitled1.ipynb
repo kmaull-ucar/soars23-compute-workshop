{
 "cells": [
  {
   "cell_type": "code",
   "execution_count": 1,
   "id": "a9f67d0f-f014-42cd-8bb2-cfdfe4b38dc1",
   "metadata": {},
   "outputs": [],
   "source": [
    "import requests"
   ]
  },
  {
   "cell_type": "code",
   "execution_count": 11,
   "id": "1d7861a1-bc26-48f3-adb9-344a329f3286",
   "metadata": {},
   "outputs": [
    {
     "data": {
      "text/plain": [
       "{'Server': 'nginx/1.20.1', 'Date': 'Fri, 28 Apr 2023 19:06:01 GMT', 'Content-Type': 'text/html', 'Content-Length': '169', 'Connection': 'keep-alive', 'Location': 'https://cisl-chords.cloud.ucar.edu/measurements/url_create?sensor_id=aaffbbcc&rh1=22&t1=22&sp1=P22&voc1=22&t4=22&at=2015-08-20T19:50:28&email=kmaull@ucar.edu&api_key=Viqg4yJXXJbPsYRjxe4f&test'}"
      ]
     },
     "execution_count": 11,
     "metadata": {},
     "output_type": "execute_result"
    }
   ],
   "source": [
    "r = requests.get(\"http://cisl-chords.cloud.ucar.edu/measurements/url_create?sensor_id=aaffbbcc&rh1=22&t1=22&sp1=P22&voc1=22&t4=22&at=2015-08-20T19:50:28&email=kmaull@ucar.edu&api_key=Viqg4yJXXJbPsYRjxe4f&test\", allow_redirects=False)\n",
    "r.headers"
   ]
  },
  {
   "cell_type": "code",
   "execution_count": null,
   "id": "3e82c40b-3d74-4901-babc-6b90c8ceac9e",
   "metadata": {},
   "outputs": [],
   "source": []
  }
 ],
 "metadata": {
  "kernelspec": {
   "display_name": "Python 3 (ipykernel)",
   "language": "python",
   "name": "python3"
  },
  "language_info": {
   "codemirror_mode": {
    "name": "ipython",
    "version": 3
   },
   "file_extension": ".py",
   "mimetype": "text/x-python",
   "name": "python",
   "nbconvert_exporter": "python",
   "pygments_lexer": "ipython3",
   "version": "3.8.16"
  }
 },
 "nbformat": 4,
 "nbformat_minor": 5
}
