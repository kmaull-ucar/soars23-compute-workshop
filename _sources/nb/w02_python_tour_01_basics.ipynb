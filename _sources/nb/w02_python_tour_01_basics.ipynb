{
 "cells": [
  {
   "cell_type": "markdown",
   "id": "886f6cab-cea5-45fb-aed8-eb17f1c91e17",
   "metadata": {},
   "source": [
    "# Basic Python Language \n",
    "\n",
    "## Variables (names)\n",
    "\n",
    "## Types\n",
    "While Python is considered a \"typed\" language, it is also what we call \"dynamically typed\".  These fancy terms should scare you, instead, what you need to know is that a number is a \"type\", a string (like \"Hello\") is a \"type\", but that in the course of a program some of these can be converted from one type to another.\n",
    "\n",
    "If you are not a computer science student the most important thing to know is that there are different \"types\", and that when you run your program Python can understand the \"types\" you are using, but often not before.  This can be the case\n",
    "\n",
    "Here is an example of this idea:"
   ]
  },
  {
   "cell_type": "markdown",
   "id": "5595043b-adaf-45bf-b698-5b8c22b2bb58",
   "metadata": {},
   "source": [
    "## Loops\n",
    "Fundamental to nearly any algorithm is the concept of looping or repeated execution of some code until some stopping condition or important event (even and error is important) occurs.  Python makes looping very accessible and intuitive with the `for ... in:` construct.  Consider the code below where we loop through a single list of numbers:"
   ]
  },
  {
   "cell_type": "code",
   "execution_count": null,
   "id": "7aa9bcba-a05f-4d2d-921d-8c1097a64b2a",
   "metadata": {},
   "outputs": [],
   "source": []
  }
 ],
 "metadata": {
  "kernelspec": {
   "display_name": "Python 3 (ipykernel)",
   "language": "python",
   "name": "python3"
  },
  "language_info": {
   "codemirror_mode": {
    "name": "ipython",
    "version": 3
   },
   "file_extension": ".py",
   "mimetype": "text/x-python",
   "name": "python",
   "nbconvert_exporter": "python",
   "pygments_lexer": "ipython3",
   "version": "3.8.11"
  }
 },
 "nbformat": 4,
 "nbformat_minor": 5
}
